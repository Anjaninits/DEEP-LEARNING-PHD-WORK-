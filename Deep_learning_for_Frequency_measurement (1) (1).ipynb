{
  "cells": [
    {
      "metadata": {
        "_uuid": "8f2839f25d086af736a60e9eeb907d3b93b6e0e5",
        "_cell_guid": "b1076dfc-b9ad-4769-8c92-a6c4dae69d19",
        "trusted": true,
        "_kg_hide-output": true,
        "colab": {
          "base_uri": "https://localhost:8080/",
          "height": 17
        },
        "id": "r61pNNff3c6G",
        "outputId": "9f855584-aeb3-4cce-f9b5-a05a03716d9c"
      },
      "cell_type": "code",
      "source": [
        "import warnings\n",
        "import numpy as np\n",
        "import pandas as pd\n",
        "import matplotlib.pyplot as plt\n",
        "from keras import optimizers\n",
        "from keras.utils import plot_model\n",
        "from keras.models import Sequential, Model\n",
        "from keras.layers.convolutional import Conv1D, MaxPooling1D\n",
        "from keras.layers import Dense, LSTM, RepeatVector, TimeDistributed, Flatten\n",
        "from sklearn.metrics import mean_squared_error\n",
        "from sklearn.model_selection import train_test_split\n",
        "#import plotly.plotly as py\n",
        "import plotly.graph_objs as go\n",
        "from plotly.offline import init_notebook_mode, iplot\n",
        "\n",
        "%matplotlib inline\n",
        "warnings.filterwarnings(\"ignore\")\n",
        "init_notebook_mode(connected=True)\n",
        "\n",
        "# Set seeds to make the experiment more reproducible.\n",
        "#from tensorflow import set_random_seed\n",
        "from numpy.random import seed\n",
        "#set_random_seed(1)\n",
        "seed(1)"
      ],
      "execution_count": 97,
      "outputs": [
        {
          "output_type": "display_data",
          "data": {
            "text/html": [
              "        <script type=\"text/javascript\">\n",
              "        window.PlotlyConfig = {MathJaxConfig: 'local'};\n",
              "        if (window.MathJax) {MathJax.Hub.Config({SVG: {font: \"STIX-Web\"}});}\n",
              "        if (typeof require !== 'undefined') {\n",
              "        require.undef(\"plotly\");\n",
              "        requirejs.config({\n",
              "            paths: {\n",
              "                'plotly': ['https://cdn.plot.ly/plotly-2.8.3.min']\n",
              "            }\n",
              "        });\n",
              "        require(['plotly'], function(Plotly) {\n",
              "            window._Plotly = Plotly;\n",
              "        });\n",
              "        }\n",
              "        </script>\n",
              "        "
            ]
          },
          "metadata": {}
        }
      ]
    },
    {
      "cell_type": "code",
      "execution_count": 98,
      "metadata": {
        "id": "VlkcW1GeabyP"
      },
      "outputs": [],
      "source": [
        "import pandas as pd \n",
        "import seaborn as sns\n",
        "from sklearn.preprocessing import StandardScaler\n",
        "from sklearn.preprocessing import MinMaxScaler\n",
        "from sklearn.model_selection import train_test_split"
      ]
    },
    {
      "cell_type": "code",
      "execution_count": 99,
      "metadata": {
        "execution": {
          "iopub.execute_input": "2022-01-07T14:52:24.644656Z",
          "iopub.status.busy": "2022-01-07T14:52:24.643921Z",
          "iopub.status.idle": "2022-01-07T14:52:24.692936Z",
          "shell.execute_reply": "2022-01-07T14:52:24.693646Z",
          "shell.execute_reply.started": "2022-01-07T14:42:49.186163Z"
        },
        "papermill": {
          "duration": 0.097778,
          "end_time": "2022-01-07T14:52:24.693909",
          "exception": false,
          "start_time": "2022-01-07T14:52:24.596131",
          "status": "completed"
        },
        "tags": [],
        "id": "4e34fe16"
      },
      "outputs": [],
      "source": [
        "df = pd.read_csv(\"../content/Frequency measurement_8.csv\")"
      ]
    },
    {
      "cell_type": "code",
      "source": [
        "df.head()"
      ],
      "metadata": {
        "colab": {
          "base_uri": "https://localhost:8080/",
          "height": 206
        },
        "id": "FTIuC_kXnhuu",
        "outputId": "f45a4ccb-f36a-4dc4-a092-9e2b2bd4cc0f"
      },
      "execution_count": 100,
      "outputs": [
        {
          "output_type": "execute_result",
          "data": {
            "text/plain": [
              "   Width_cm  Leanth_cm  Thickness_cm  Dielectric_constant  Mode_m  Mode_n  \\\n",
              "0     0.850      1.290         0.017                 2.22       1       0   \n",
              "1     0.790      1.185         0.017                 2.22       1       0   \n",
              "2     2.000      2.500         0.079                 2.22       1       0   \n",
              "3     1.063      1.183         0.079                10.20       1       0   \n",
              "4     0.910      1.000         0.127                 2.33       1       0   \n",
              "\n",
              "   Meas_Freq_MHz  \n",
              "0           7740  \n",
              "1           8450  \n",
              "2           3970  \n",
              "3           7730  \n",
              "4           4600  "
            ],
            "text/html": [
              "\n",
              "  <div id=\"df-e224cff3-51ff-44fc-861a-bc51a0bc8b75\">\n",
              "    <div class=\"colab-df-container\">\n",
              "      <div>\n",
              "<style scoped>\n",
              "    .dataframe tbody tr th:only-of-type {\n",
              "        vertical-align: middle;\n",
              "    }\n",
              "\n",
              "    .dataframe tbody tr th {\n",
              "        vertical-align: top;\n",
              "    }\n",
              "\n",
              "    .dataframe thead th {\n",
              "        text-align: right;\n",
              "    }\n",
              "</style>\n",
              "<table border=\"1\" class=\"dataframe\">\n",
              "  <thead>\n",
              "    <tr style=\"text-align: right;\">\n",
              "      <th></th>\n",
              "      <th>Width_cm</th>\n",
              "      <th>Leanth_cm</th>\n",
              "      <th>Thickness_cm</th>\n",
              "      <th>Dielectric_constant</th>\n",
              "      <th>Mode_m</th>\n",
              "      <th>Mode_n</th>\n",
              "      <th>Meas_Freq_MHz</th>\n",
              "    </tr>\n",
              "  </thead>\n",
              "  <tbody>\n",
              "    <tr>\n",
              "      <th>0</th>\n",
              "      <td>0.850</td>\n",
              "      <td>1.290</td>\n",
              "      <td>0.017</td>\n",
              "      <td>2.22</td>\n",
              "      <td>1</td>\n",
              "      <td>0</td>\n",
              "      <td>7740</td>\n",
              "    </tr>\n",
              "    <tr>\n",
              "      <th>1</th>\n",
              "      <td>0.790</td>\n",
              "      <td>1.185</td>\n",
              "      <td>0.017</td>\n",
              "      <td>2.22</td>\n",
              "      <td>1</td>\n",
              "      <td>0</td>\n",
              "      <td>8450</td>\n",
              "    </tr>\n",
              "    <tr>\n",
              "      <th>2</th>\n",
              "      <td>2.000</td>\n",
              "      <td>2.500</td>\n",
              "      <td>0.079</td>\n",
              "      <td>2.22</td>\n",
              "      <td>1</td>\n",
              "      <td>0</td>\n",
              "      <td>3970</td>\n",
              "    </tr>\n",
              "    <tr>\n",
              "      <th>3</th>\n",
              "      <td>1.063</td>\n",
              "      <td>1.183</td>\n",
              "      <td>0.079</td>\n",
              "      <td>10.20</td>\n",
              "      <td>1</td>\n",
              "      <td>0</td>\n",
              "      <td>7730</td>\n",
              "    </tr>\n",
              "    <tr>\n",
              "      <th>4</th>\n",
              "      <td>0.910</td>\n",
              "      <td>1.000</td>\n",
              "      <td>0.127</td>\n",
              "      <td>2.33</td>\n",
              "      <td>1</td>\n",
              "      <td>0</td>\n",
              "      <td>4600</td>\n",
              "    </tr>\n",
              "  </tbody>\n",
              "</table>\n",
              "</div>\n",
              "      <button class=\"colab-df-convert\" onclick=\"convertToInteractive('df-e224cff3-51ff-44fc-861a-bc51a0bc8b75')\"\n",
              "              title=\"Convert this dataframe to an interactive table.\"\n",
              "              style=\"display:none;\">\n",
              "        \n",
              "  <svg xmlns=\"http://www.w3.org/2000/svg\" height=\"24px\"viewBox=\"0 0 24 24\"\n",
              "       width=\"24px\">\n",
              "    <path d=\"M0 0h24v24H0V0z\" fill=\"none\"/>\n",
              "    <path d=\"M18.56 5.44l.94 2.06.94-2.06 2.06-.94-2.06-.94-.94-2.06-.94 2.06-2.06.94zm-11 1L8.5 8.5l.94-2.06 2.06-.94-2.06-.94L8.5 2.5l-.94 2.06-2.06.94zm10 10l.94 2.06.94-2.06 2.06-.94-2.06-.94-.94-2.06-.94 2.06-2.06.94z\"/><path d=\"M17.41 7.96l-1.37-1.37c-.4-.4-.92-.59-1.43-.59-.52 0-1.04.2-1.43.59L10.3 9.45l-7.72 7.72c-.78.78-.78 2.05 0 2.83L4 21.41c.39.39.9.59 1.41.59.51 0 1.02-.2 1.41-.59l7.78-7.78 2.81-2.81c.8-.78.8-2.07 0-2.86zM5.41 20L4 18.59l7.72-7.72 1.47 1.35L5.41 20z\"/>\n",
              "  </svg>\n",
              "      </button>\n",
              "      \n",
              "  <style>\n",
              "    .colab-df-container {\n",
              "      display:flex;\n",
              "      flex-wrap:wrap;\n",
              "      gap: 12px;\n",
              "    }\n",
              "\n",
              "    .colab-df-convert {\n",
              "      background-color: #E8F0FE;\n",
              "      border: none;\n",
              "      border-radius: 50%;\n",
              "      cursor: pointer;\n",
              "      display: none;\n",
              "      fill: #1967D2;\n",
              "      height: 32px;\n",
              "      padding: 0 0 0 0;\n",
              "      width: 32px;\n",
              "    }\n",
              "\n",
              "    .colab-df-convert:hover {\n",
              "      background-color: #E2EBFA;\n",
              "      box-shadow: 0px 1px 2px rgba(60, 64, 67, 0.3), 0px 1px 3px 1px rgba(60, 64, 67, 0.15);\n",
              "      fill: #174EA6;\n",
              "    }\n",
              "\n",
              "    [theme=dark] .colab-df-convert {\n",
              "      background-color: #3B4455;\n",
              "      fill: #D2E3FC;\n",
              "    }\n",
              "\n",
              "    [theme=dark] .colab-df-convert:hover {\n",
              "      background-color: #434B5C;\n",
              "      box-shadow: 0px 1px 3px 1px rgba(0, 0, 0, 0.15);\n",
              "      filter: drop-shadow(0px 1px 2px rgba(0, 0, 0, 0.3));\n",
              "      fill: #FFFFFF;\n",
              "    }\n",
              "  </style>\n",
              "\n",
              "      <script>\n",
              "        const buttonEl =\n",
              "          document.querySelector('#df-e224cff3-51ff-44fc-861a-bc51a0bc8b75 button.colab-df-convert');\n",
              "        buttonEl.style.display =\n",
              "          google.colab.kernel.accessAllowed ? 'block' : 'none';\n",
              "\n",
              "        async function convertToInteractive(key) {\n",
              "          const element = document.querySelector('#df-e224cff3-51ff-44fc-861a-bc51a0bc8b75');\n",
              "          const dataTable =\n",
              "            await google.colab.kernel.invokeFunction('convertToInteractive',\n",
              "                                                     [key], {});\n",
              "          if (!dataTable) return;\n",
              "\n",
              "          const docLinkHtml = 'Like what you see? Visit the ' +\n",
              "            '<a target=\"_blank\" href=https://colab.research.google.com/notebooks/data_table.ipynb>data table notebook</a>'\n",
              "            + ' to learn more about interactive tables.';\n",
              "          element.innerHTML = '';\n",
              "          dataTable['output_type'] = 'display_data';\n",
              "          await google.colab.output.renderOutput(dataTable, element);\n",
              "          const docLink = document.createElement('div');\n",
              "          docLink.innerHTML = docLinkHtml;\n",
              "          element.appendChild(docLink);\n",
              "        }\n",
              "      </script>\n",
              "    </div>\n",
              "  </div>\n",
              "  "
            ]
          },
          "metadata": {},
          "execution_count": 100
        }
      ]
    },
    {
      "cell_type": "code",
      "execution_count": 101,
      "metadata": {
        "colab": {
          "base_uri": "https://localhost:8080/",
          "height": 206
        },
        "id": "qQY6qRZxabyR",
        "outputId": "86832612-9eaa-46f7-823b-6657d79745d7"
      },
      "outputs": [
        {
          "output_type": "execute_result",
          "data": {
            "text/plain": [
              "   Width_cm  Leanth_cm  Thickness_cm  Dielectric_constant  Mode_m  Mode_n  \\\n",
              "0     0.850      1.290         0.017                 2.22       1       0   \n",
              "1     0.790      1.185         0.017                 2.22       1       0   \n",
              "2     2.000      2.500         0.079                 2.22       1       0   \n",
              "3     1.063      1.183         0.079                10.20       1       0   \n",
              "4     0.910      1.000         0.127                 2.33       1       0   \n",
              "\n",
              "   Meas_Freq_MHz  \n",
              "0           7740  \n",
              "1           8450  \n",
              "2           3970  \n",
              "3           7730  \n",
              "4           4600  "
            ],
            "text/html": [
              "\n",
              "  <div id=\"df-fce9b57e-468d-4371-b43f-153bea94cabf\">\n",
              "    <div class=\"colab-df-container\">\n",
              "      <div>\n",
              "<style scoped>\n",
              "    .dataframe tbody tr th:only-of-type {\n",
              "        vertical-align: middle;\n",
              "    }\n",
              "\n",
              "    .dataframe tbody tr th {\n",
              "        vertical-align: top;\n",
              "    }\n",
              "\n",
              "    .dataframe thead th {\n",
              "        text-align: right;\n",
              "    }\n",
              "</style>\n",
              "<table border=\"1\" class=\"dataframe\">\n",
              "  <thead>\n",
              "    <tr style=\"text-align: right;\">\n",
              "      <th></th>\n",
              "      <th>Width_cm</th>\n",
              "      <th>Leanth_cm</th>\n",
              "      <th>Thickness_cm</th>\n",
              "      <th>Dielectric_constant</th>\n",
              "      <th>Mode_m</th>\n",
              "      <th>Mode_n</th>\n",
              "      <th>Meas_Freq_MHz</th>\n",
              "    </tr>\n",
              "  </thead>\n",
              "  <tbody>\n",
              "    <tr>\n",
              "      <th>0</th>\n",
              "      <td>0.850</td>\n",
              "      <td>1.290</td>\n",
              "      <td>0.017</td>\n",
              "      <td>2.22</td>\n",
              "      <td>1</td>\n",
              "      <td>0</td>\n",
              "      <td>7740</td>\n",
              "    </tr>\n",
              "    <tr>\n",
              "      <th>1</th>\n",
              "      <td>0.790</td>\n",
              "      <td>1.185</td>\n",
              "      <td>0.017</td>\n",
              "      <td>2.22</td>\n",
              "      <td>1</td>\n",
              "      <td>0</td>\n",
              "      <td>8450</td>\n",
              "    </tr>\n",
              "    <tr>\n",
              "      <th>2</th>\n",
              "      <td>2.000</td>\n",
              "      <td>2.500</td>\n",
              "      <td>0.079</td>\n",
              "      <td>2.22</td>\n",
              "      <td>1</td>\n",
              "      <td>0</td>\n",
              "      <td>3970</td>\n",
              "    </tr>\n",
              "    <tr>\n",
              "      <th>3</th>\n",
              "      <td>1.063</td>\n",
              "      <td>1.183</td>\n",
              "      <td>0.079</td>\n",
              "      <td>10.20</td>\n",
              "      <td>1</td>\n",
              "      <td>0</td>\n",
              "      <td>7730</td>\n",
              "    </tr>\n",
              "    <tr>\n",
              "      <th>4</th>\n",
              "      <td>0.910</td>\n",
              "      <td>1.000</td>\n",
              "      <td>0.127</td>\n",
              "      <td>2.33</td>\n",
              "      <td>1</td>\n",
              "      <td>0</td>\n",
              "      <td>4600</td>\n",
              "    </tr>\n",
              "  </tbody>\n",
              "</table>\n",
              "</div>\n",
              "      <button class=\"colab-df-convert\" onclick=\"convertToInteractive('df-fce9b57e-468d-4371-b43f-153bea94cabf')\"\n",
              "              title=\"Convert this dataframe to an interactive table.\"\n",
              "              style=\"display:none;\">\n",
              "        \n",
              "  <svg xmlns=\"http://www.w3.org/2000/svg\" height=\"24px\"viewBox=\"0 0 24 24\"\n",
              "       width=\"24px\">\n",
              "    <path d=\"M0 0h24v24H0V0z\" fill=\"none\"/>\n",
              "    <path d=\"M18.56 5.44l.94 2.06.94-2.06 2.06-.94-2.06-.94-.94-2.06-.94 2.06-2.06.94zm-11 1L8.5 8.5l.94-2.06 2.06-.94-2.06-.94L8.5 2.5l-.94 2.06-2.06.94zm10 10l.94 2.06.94-2.06 2.06-.94-2.06-.94-.94-2.06-.94 2.06-2.06.94z\"/><path d=\"M17.41 7.96l-1.37-1.37c-.4-.4-.92-.59-1.43-.59-.52 0-1.04.2-1.43.59L10.3 9.45l-7.72 7.72c-.78.78-.78 2.05 0 2.83L4 21.41c.39.39.9.59 1.41.59.51 0 1.02-.2 1.41-.59l7.78-7.78 2.81-2.81c.8-.78.8-2.07 0-2.86zM5.41 20L4 18.59l7.72-7.72 1.47 1.35L5.41 20z\"/>\n",
              "  </svg>\n",
              "      </button>\n",
              "      \n",
              "  <style>\n",
              "    .colab-df-container {\n",
              "      display:flex;\n",
              "      flex-wrap:wrap;\n",
              "      gap: 12px;\n",
              "    }\n",
              "\n",
              "    .colab-df-convert {\n",
              "      background-color: #E8F0FE;\n",
              "      border: none;\n",
              "      border-radius: 50%;\n",
              "      cursor: pointer;\n",
              "      display: none;\n",
              "      fill: #1967D2;\n",
              "      height: 32px;\n",
              "      padding: 0 0 0 0;\n",
              "      width: 32px;\n",
              "    }\n",
              "\n",
              "    .colab-df-convert:hover {\n",
              "      background-color: #E2EBFA;\n",
              "      box-shadow: 0px 1px 2px rgba(60, 64, 67, 0.3), 0px 1px 3px 1px rgba(60, 64, 67, 0.15);\n",
              "      fill: #174EA6;\n",
              "    }\n",
              "\n",
              "    [theme=dark] .colab-df-convert {\n",
              "      background-color: #3B4455;\n",
              "      fill: #D2E3FC;\n",
              "    }\n",
              "\n",
              "    [theme=dark] .colab-df-convert:hover {\n",
              "      background-color: #434B5C;\n",
              "      box-shadow: 0px 1px 3px 1px rgba(0, 0, 0, 0.15);\n",
              "      filter: drop-shadow(0px 1px 2px rgba(0, 0, 0, 0.3));\n",
              "      fill: #FFFFFF;\n",
              "    }\n",
              "  </style>\n",
              "\n",
              "      <script>\n",
              "        const buttonEl =\n",
              "          document.querySelector('#df-fce9b57e-468d-4371-b43f-153bea94cabf button.colab-df-convert');\n",
              "        buttonEl.style.display =\n",
              "          google.colab.kernel.accessAllowed ? 'block' : 'none';\n",
              "\n",
              "        async function convertToInteractive(key) {\n",
              "          const element = document.querySelector('#df-fce9b57e-468d-4371-b43f-153bea94cabf');\n",
              "          const dataTable =\n",
              "            await google.colab.kernel.invokeFunction('convertToInteractive',\n",
              "                                                     [key], {});\n",
              "          if (!dataTable) return;\n",
              "\n",
              "          const docLinkHtml = 'Like what you see? Visit the ' +\n",
              "            '<a target=\"_blank\" href=https://colab.research.google.com/notebooks/data_table.ipynb>data table notebook</a>'\n",
              "            + ' to learn more about interactive tables.';\n",
              "          element.innerHTML = '';\n",
              "          dataTable['output_type'] = 'display_data';\n",
              "          await google.colab.output.renderOutput(dataTable, element);\n",
              "          const docLink = document.createElement('div');\n",
              "          docLink.innerHTML = docLinkHtml;\n",
              "          element.appendChild(docLink);\n",
              "        }\n",
              "      </script>\n",
              "    </div>\n",
              "  </div>\n",
              "  "
            ]
          },
          "metadata": {},
          "execution_count": 101
        }
      ],
      "source": [
        "df2 = df[['Width_cm','Leanth_cm','Thickness_cm','Dielectric_constant','Mode_m','Mode_n','Meas_Freq_MHz']]\n",
        "df2.head()"
      ]
    },
    {
      "cell_type": "code",
      "execution_count": 102,
      "metadata": {
        "id": "GuHsGiXAabyR"
      },
      "outputs": [],
      "source": [
        "df3 = df2.fillna(df2.mean())"
      ]
    },
    {
      "cell_type": "code",
      "execution_count": 103,
      "metadata": {
        "colab": {
          "base_uri": "https://localhost:8080/"
        },
        "id": "G0MVMK3CabyS",
        "outputId": "7d797a29-1c3d-4544-9596-648b6f79f3aa"
      },
      "outputs": [
        {
          "output_type": "stream",
          "name": "stdout",
          "text": [
            "Shape of X =  (68, 6)\n",
            "Shape of y =  (68,)\n"
          ]
        }
      ],
      "source": [
        "X = df3.drop('Meas_Freq_MHz', axis = 1)\n",
        "y = df3['Meas_Freq_MHz']\n",
        "print('Shape of X = ', X.shape)\n",
        "print('Shape of y = ', y.shape)"
      ]
    },
    {
      "cell_type": "code",
      "execution_count": 104,
      "metadata": {
        "colab": {
          "base_uri": "https://localhost:8080/"
        },
        "id": "qkdGgy6JabyS",
        "outputId": "59d24868-4e43-4ea0-b448-506eb149905a"
      },
      "outputs": [
        {
          "output_type": "stream",
          "name": "stdout",
          "text": [
            "Shape of X_train =  (54, 6)\n",
            "Shape of y_train =  (54,)\n",
            "Shape of X_test =  (14, 6)\n",
            "Shape of y_test =  (14,)\n"
          ]
        }
      ],
      "source": [
        "X_train, X_test, y_train, y_test =train_test_split(X, y, test_size=0.2, random_state=51)\n",
        "print('Shape of X_train = ', X_train.shape)\n",
        "print('Shape of y_train = ', y_train.shape)\n",
        "print('Shape of X_test = ', X_test.shape)\n",
        "print('Shape of y_test = ', y_test.shape)"
      ]
    },
    {
      "cell_type": "code",
      "execution_count": 105,
      "metadata": {
        "colab": {
          "base_uri": "https://localhost:8080/"
        },
        "id": "wAOG2gghabyS",
        "outputId": "fc82e256-8280-48ac-ef14-66e0c8ba2a71"
      },
      "outputs": [
        {
          "output_type": "execute_result",
          "data": {
            "text/plain": [
              "StandardScaler()"
            ]
          },
          "metadata": {},
          "execution_count": 105
        }
      ],
      "source": [
        "sc = StandardScaler()\n",
        "sc.fit(X_train )"
      ]
    },
    {
      "cell_type": "code",
      "execution_count": 90,
      "metadata": {
        "execution": {
          "iopub.execute_input": "2022-01-07T14:53:14.665704Z",
          "iopub.status.busy": "2022-01-07T14:53:14.664984Z",
          "iopub.status.idle": "2022-01-07T14:53:14.671641Z",
          "shell.execute_reply": "2022-01-07T14:53:14.672142Z",
          "shell.execute_reply.started": "2022-01-07T14:43:34.652584Z"
        },
        "papermill": {
          "duration": 0.115217,
          "end_time": "2022-01-07T14:53:14.672327",
          "exception": false,
          "start_time": "2022-01-07T14:53:14.557110",
          "status": "completed"
        },
        "tags": [],
        "id": "c670aec2"
      },
      "outputs": [],
      "source": [
        "def rmse_cv(model):\n",
        "    rmse = np.sqrt(-cross_val_score(model, X, y, scoring=\"neg_mean_squared_error\", cv=5)).mean()\n",
        "    return rmse\n",
        "    \n",
        "\n",
        "def evaluation(y, predictions):\n",
        "    mae = mean_absolute_error(y, predictions)\n",
        "    mse = mean_squared_error(y, predictions)\n",
        "    rmse = np.sqrt(mean_squared_error(y, predictions))\n",
        "    r_squared = r2_score(y, predictions)\n",
        "    return mae, mse, rmse, r_squared"
      ]
    },
    {
      "cell_type": "code",
      "execution_count": 106,
      "metadata": {
        "execution": {
          "iopub.execute_input": "2022-01-07T14:53:15.101493Z",
          "iopub.status.busy": "2022-01-07T14:53:15.100745Z",
          "iopub.status.idle": "2022-01-07T14:53:15.106737Z",
          "shell.execute_reply": "2022-01-07T14:53:15.107262Z",
          "shell.execute_reply.started": "2022-01-07T14:43:34.665439Z"
        },
        "papermill": {
          "duration": 0.118597,
          "end_time": "2022-01-07T14:53:15.107485",
          "exception": false,
          "start_time": "2022-01-07T14:53:14.988888",
          "status": "completed"
        },
        "tags": [],
        "id": "715304cf"
      },
      "outputs": [],
      "source": [
        "models = pd.DataFrame(columns=[\"Model\",\"MAE\",\"MSE\",\"RMSE\",\"R2 Score\",\"RMSE (Cross-Validation)\"])"
      ]
    },
    {
      "cell_type": "code",
      "execution_count": 107,
      "metadata": {
        "_cell_guid": "b1076dfc-b9ad-4769-8c92-a6c4dae69d19",
        "_uuid": "8f2839f25d086af736a60e9eeb907d3b93b6e0e5",
        "execution": {
          "iopub.execute_input": "2022-01-07T14:52:22.921022Z",
          "iopub.status.busy": "2022-01-07T14:52:22.919688Z",
          "iopub.status.idle": "2022-01-07T14:52:24.469036Z",
          "shell.execute_reply": "2022-01-07T14:52:24.468249Z",
          "shell.execute_reply.started": "2022-01-07T14:42:49.152057Z"
        },
        "papermill": {
          "duration": 1.598972,
          "end_time": "2022-01-07T14:52:24.469221",
          "exception": false,
          "start_time": "2022-01-07T14:52:22.870249",
          "status": "completed"
        },
        "tags": [],
        "id": "5f6d09dc"
      },
      "outputs": [],
      "source": [
        "import numpy as np\n",
        "import pandas as pd\n",
        "import seaborn as sns\n",
        "import matplotlib.pyplot as plt\n",
        "import warnings\n",
        "warnings.filterwarnings(\"ignore\")\n",
        "\n",
        "from sklearn.model_selection import train_test_split, cross_val_score\n",
        "from sklearn.preprocessing import StandardScaler\n",
        "from sklearn.metrics import r2_score, mean_absolute_error, mean_squared_error\n",
        "\n",
        "from sklearn.linear_model import LinearRegression\n",
        "from sklearn.linear_model import Ridge\n",
        "from sklearn.linear_model import Lasso\n",
        "from sklearn.linear_model import ElasticNet\n",
        "from sklearn.ensemble import RandomForestRegressor\n",
        "from sklearn.svm import SVR\n",
        "from xgboost import XGBRegressor\n",
        "from sklearn.preprocessing import PolynomialFeatures"
      ]
    },
    {
      "metadata": {
        "_uuid": "1c6dbf5e8699ea64e929009e7c47625eab207535",
        "id": "4leiEBlI3c6O"
      },
      "cell_type": "markdown",
      "source": [
        "### MLP for Time Series Forecasting\n",
        "\n",
        "* First we will use a Multilayer Perceptron model or MLP model, here our model will have input features equal to the window size.\n",
        "* The thing with MLP models is that the model don't take the input as sequenced data, so for the model, it is just receiving inputs and don't treat them as sequenced data, that may be a problem since the model won't see the data with the sequence patter that it has.\n",
        "* Input shape **[samples, timesteps]**."
      ]
    },
    {
      "metadata": {
        "trusted": true,
        "_uuid": "47962d535b4dddea0588a416ed742b23fdc44db0",
        "id": "Zyl7O_S73c6O"
      },
      "cell_type": "code",
      "source": [
        "epochs = 40\n",
        "batch = 256\n",
        "lr = 0.0003\n",
        "adam = optimizers.Adam(lr)"
      ],
      "execution_count": 93,
      "outputs": []
    },
    {
      "metadata": {
        "trusted": true,
        "_uuid": "da03328a583580969bd2603c1348b939d533092d",
        "colab": {
          "base_uri": "https://localhost:8080/"
        },
        "id": "vWjeUeEO3c6O",
        "outputId": "cb9fc8aa-a7b8-4961-a1cd-ce895aa03c00"
      },
      "cell_type": "code",
      "source": [
        "model_mlp = Sequential()\n",
        "model_mlp.add(Dense(100, activation='relu', input_dim=X_train.shape[1]))\n",
        "model_mlp.add(Dense(1))\n",
        "model_mlp.compile(loss='mse', optimizer=adam)\n",
        "model_mlp.summary()"
      ],
      "execution_count": 108,
      "outputs": [
        {
          "output_type": "stream",
          "name": "stdout",
          "text": [
            "Model: \"sequential_14\"\n",
            "_________________________________________________________________\n",
            " Layer (type)                Output Shape              Param #   \n",
            "=================================================================\n",
            " dense_36 (Dense)            (None, 100)               700       \n",
            "                                                                 \n",
            " dense_37 (Dense)            (None, 1)                 101       \n",
            "                                                                 \n",
            "=================================================================\n",
            "Total params: 801\n",
            "Trainable params: 801\n",
            "Non-trainable params: 0\n",
            "_________________________________________________________________\n"
          ]
        }
      ]
    },
    {
      "cell_type": "code",
      "source": [],
      "metadata": {
        "id": "NJnhVfLtVmxu"
      },
      "execution_count": null,
      "outputs": []
    },
    {
      "cell_type": "code",
      "source": [
        "model.compile(\n",
        "    #optimizer='adam',\n",
        "    optimizer='sgd',\n",
        "    loss='mae',\n",
        ")\n",
        "\n",
        "history = model.fit(\n",
        "    X_train, y_train,\n",
        "    validation_data=(X_test, y_test),\n",
        "    batch_size=256,\n",
        "    epochs=200,\n",
        "    verbose=0,\n",
        ")\n",
        "\n",
        "\n",
        "# Show the learning curves\n",
        "history_df = pd.DataFrame(history.history)\n",
        "history_df.loc[:, ['loss', 'val_loss']].plot();"
      ],
      "metadata": {
        "colab": {
          "base_uri": "https://localhost:8080/",
          "height": 265
        },
        "outputId": "27102fbf-680f-4a6e-811c-ca0252d8d61a",
        "id": "B3R2kMdWVnTW"
      },
      "execution_count": 109,
      "outputs": [
        {
          "output_type": "display_data",
          "data": {
            "text/plain": [
              "<Figure size 432x288 with 1 Axes>"
            ],
            "image/png": "[encoded data removed]"
          },
          "metadata": {
            "needs_background": "light"
          }
        }
      ]
    },
    {
      "metadata": {
        "_uuid": "7ef4d50fedcf9516742b45f3e3a7dab2cb0d301b",
        "id": "_ghEZbFJ3c6P"
      },
      "cell_type": "markdown",
      "source": [
        "### CNN for RESONANCE FREQUENCY MEASUREMENT\n",
        "\n",
        "1.   List item\n",
        "2.   List item\n",
        "\n",
        "\n",
        "\n",
        "* For the CNN model we will use one convolutional hidden layer followed by a max pooling layer. The filter maps are then flattened before being interpreted by a Dense layer and outputting a prediction.\n",
        "* The convolutional layer should be able to identify patterns between the timesteps.\n",
        "* Input shape **[samples, timesteps, features]**.\n",
        "\n",
        "#### Data preprocess\n",
        "* Reshape from [samples, timesteps] into [samples, timesteps, features].\n",
        "* This same reshaped data will be used on the CNN and the LSTM model."
      ]
    },
    {
      "metadata": {
        "trusted": true,
        "_uuid": "846fccfaa8d3761bbfc57b05ab447e9da07367ee",
        "colab": {
          "base_uri": "https://localhost:8080/"
        },
        "id": "uyPQKyeR3c6P",
        "outputId": "a1a3f2a7-6641-4099-e524-9eb855fff15b"
      },
      "cell_type": "code",
      "source": [
        "model_cnn = Sequential()\n",
        "model_cnn.add(Conv1D(filters=64, kernel_size=2, activation='relu', input_shape=(X_train_series.shape[1], X_train_series.shape[2])))\n",
        "model_cnn.add(MaxPooling1D(pool_size=2))\n",
        "model_cnn.add(Flatten())\n",
        "model_cnn.add(Dense(50, activation='relu'))\n",
        "model_cnn.add(Dense(1))\n",
        "model_cnn.compile(loss='mae', optimizer=adam)\n",
        "model_cnn.summary()"
      ],
      "execution_count": 95,
      "outputs": [
        {
          "output_type": "stream",
          "name": "stdout",
          "text": [
            "Model: \"sequential_13\"\n",
            "_________________________________________________________________\n",
            " Layer (type)                Output Shape              Param #   \n",
            "=================================================================\n",
            " conv1d_3 (Conv1D)           (None, 5, 64)             192       \n",
            "                                                                 \n",
            " max_pooling1d_3 (MaxPooling  (None, 2, 64)            0         \n",
            " 1D)                                                             \n",
            "                                                                 \n",
            " flatten_3 (Flatten)         (None, 128)               0         \n",
            "                                                                 \n",
            " dense_34 (Dense)            (None, 50)                6450      \n",
            "                                                                 \n",
            " dense_35 (Dense)            (None, 1)                 51        \n",
            "                                                                 \n",
            "=================================================================\n",
            "Total params: 6,693\n",
            "Trainable params: 6,693\n",
            "Non-trainable params: 0\n",
            "_________________________________________________________________\n"
          ]
        }
      ]
    },
    {
      "cell_type": "code",
      "source": [],
      "metadata": {
        "id": "OwmkBCRpTbDV"
      },
      "execution_count": null,
      "outputs": []
    },
    {
      "cell_type": "code",
      "source": [
        "model.compile(\n",
        "    #optimizer='adam',\n",
        "    optimizer='sgd',\n",
        "    loss='mae',\n",
        ")\n",
        "\n",
        "history = model.fit(\n",
        "    X_train, y_train,\n",
        "    validation_data=(X_test, y_test),\n",
        "    batch_size=256,\n",
        "    epochs=200,\n",
        "    verbose=0,\n",
        ")\n",
        "\n",
        "\n",
        "# Show the learning curves\n",
        "history_df = pd.DataFrame(history.history)\n",
        "history_df.loc[:, ['loss', 'val_loss']].plot();"
      ],
      "metadata": {
        "colab": {
          "base_uri": "https://localhost:8080/",
          "height": 265
        },
        "outputId": "e36c4bda-f8e6-4d40-c8c6-ac161bd570ee",
        "id": "GJjIYSqbTbnH"
      },
      "execution_count": 96,
      "outputs": [
        {
          "output_type": "display_data",
          "data": {
            "text/plain": [
              "<Figure size 432x288 with 1 Axes>"
            ],
            "image/png": "[encoded data removed]"
          },
          "metadata": {
            "needs_background": "light"
          }
        }
      ]
    },
    {
      "metadata": {
        "trusted": true,
        "_uuid": "624df546d7a4f95d8f9bd51d065e472568b25eb2",
        "id": "TDVxHkHw3c6R"
      },
      "cell_type": "markdown",
      "source": [
        "### Comparing models"
      ]
    },
    {
      "metadata": {
        "_uuid": "2355313b77222db98a69564449942e3f8378336a",
        "id": "PumU62vG3c6R"
      },
      "cell_type": "markdown",
      "source": [
        "#### LSTM on train and validation"
      ]
    },
    {
      "cell_type": "code",
      "source": [
        "layers.Dense(16, activation='relu'),\n",
        "layers.BatchNormalization(),"
      ],
      "metadata": {
        "colab": {
          "base_uri": "https://localhost:8080/"
        },
        "id": "EEcEYTzCN0Wm",
        "outputId": "437bba64-1c28-4d4d-b4dd-92170663733a"
      },
      "execution_count": 72,
      "outputs": [
        {
          "output_type": "execute_result",
          "data": {
            "text/plain": [
              "(<keras.layers.normalization.batch_normalization.BatchNormalization at 0x7fe68eb5d9d0>,)"
            ]
          },
          "metadata": {},
          "execution_count": 72
        }
      ]
    },
    {
      "cell_type": "code",
      "source": [
        "layers.Dense(16),\n",
        "layers.BatchNormalization(),\n",
        "layers.Activation('relu'),"
      ],
      "metadata": {
        "colab": {
          "base_uri": "https://localhost:8080/"
        },
        "id": "Sj305EssN0ZI",
        "outputId": "89911080-0812-4f54-9d2a-7eb2a50618ee"
      },
      "execution_count": 73,
      "outputs": [
        {
          "output_type": "execute_result",
          "data": {
            "text/plain": [
              "(<keras.layers.core.activation.Activation at 0x7fe68ebc9a30>,)"
            ]
          },
          "metadata": {},
          "execution_count": 73
        }
      ]
    },
    {
      "cell_type": "code",
      "source": [
        "from tensorflow import keras\n",
        "from tensorflow.keras import layers\n",
        "\n",
        "model = keras.Sequential([\n",
        "    layers.Dense(1024, activation='relu', input_shape=[6]),\n",
        "    layers.Dropout(0.3),\n",
        "    layers.BatchNormalization(),\n",
        "    layers.Dense(1024, activation='relu'),\n",
        "    layers.Dropout(0.3),\n",
        "    layers.BatchNormalization(),\n",
        "    layers.Dense(1024, activation='relu'),\n",
        "    layers.Dropout(0.3),\n",
        "    layers.BatchNormalization(),\n",
        "    layers.Dense(1),\n",
        "])"
      ],
      "metadata": {
        "id": "0XaA58GRM0QY"
      },
      "execution_count": 74,
      "outputs": []
    },
    {
      "cell_type": "code",
      "source": [
        "model.compile(\n",
        "    #optimizer='adam',\n",
        "    optimizer='sgd',\n",
        "    loss='mae',\n",
        ")\n",
        "\n",
        "history = model.fit(\n",
        "    X_train, y_train,\n",
        "    validation_data=(X_test, y_test),\n",
        "    batch_size=256,\n",
        "    epochs=200,\n",
        "    verbose=0,\n",
        ")\n",
        "\n",
        "\n",
        "# Show the learning curves\n",
        "history_df = pd.DataFrame(history.history)\n",
        "history_df.loc[:, ['loss', 'val_loss']].plot();"
      ],
      "metadata": {
        "colab": {
          "base_uri": "https://localhost:8080/",
          "height": 265
        },
        "id": "jWUd5iwPM0S6",
        "outputId": "d97c099d-d1b2-4671-ab69-95bbe9be5a7e"
      },
      "execution_count": 75,
      "outputs": [
        {
          "output_type": "display_data",
          "data": {
            "text/plain": [
              "<Figure size 432x288 with 1 Axes>"
            ],
            "image/png": "[encoded data removed]"
          },
          "metadata": {
            "needs_background": "light"
          }
        }
      ]
    },
    {
      "cell_type": "code",
      "source": [],
      "metadata": {
        "id": "QB_kqHHPM0Vi"
      },
      "execution_count": null,
      "outputs": []
    },
    {
      "cell_type": "code",
      "source": [
        "model.compile(\n",
        "    optimizer='adam',\n",
        "    #optimizer='sgd',\n",
        "    loss='mae',\n",
        ")\n",
        "\n",
        "history = model.fit(\n",
        "    X_train, y_train,\n",
        "    validation_data=(X_test, y_test),\n",
        "    batch_size=256,\n",
        "    epochs=1000,\n",
        "    verbose=0,\n",
        ")\n",
        "\n",
        "\n",
        "# Show the learning curves\n",
        "history_df = pd.DataFrame(history.history)\n",
        "history_df.loc[:, ['loss', 'val_loss']].plot();"
      ],
      "metadata": {
        "colab": {
          "base_uri": "https://localhost:8080/",
          "height": 265
        },
        "outputId": "9e177946-165a-4728-b315-b03b8d94806f",
        "id": "ABmZSNC8Ovqn"
      },
      "execution_count": 76,
      "outputs": [
        {
          "output_type": "display_data",
          "data": {
            "text/plain": [
              "<Figure size 432x288 with 1 Axes>"
            ],
            "image/png": "[encoded data removed]"
          },
          "metadata": {
            "needs_background": "light"
          }
        }
      ]
    },
    {
      "cell_type": "code",
      "source": [
        "WE CHANGE EPOCH ,LOSS=ADAM,SGD ETC AND CHOOSE DIFFERENT MODELS"
      ],
      "metadata": {
        "id": "sV5_pWbgM0YV"
      },
      "execution_count": null,
      "outputs": []
    },
    {
      "cell_type": "markdown",
      "source": [],
      "metadata": {
        "id": "35caJ9u2WERM"
      }
    }
  ],
  "metadata": {
    "kernelspec": {
      "display_name": "Python 3",
      "language": "python",
      "name": "python3"
    },
    "language_info": {
      "name": "python",
      "version": "3.6.6",
      "mimetype": "text/x-python",
      "codemirror_mode": {
        "name": "ipython",
        "version": 3
      },
      "pygments_lexer": "ipython3",
      "nbconvert_exporter": "python",
      "file_extension": ".py"
    },
    "colab": {
      "provenance": []
    }
  },
  "nbformat": 4,
  "nbformat_minor": 0
}